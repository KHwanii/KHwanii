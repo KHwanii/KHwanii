{
 "cells": [
  {
   "cell_type": "code",
   "execution_count": 1,
   "id": "33437d63",
   "metadata": {
    "scrolled": true
   },
   "outputs": [
    {
     "name": "stderr",
     "output_type": "stream",
     "text": [
      "Copying files: 16132 files [00:07, 2179.56 files/s]\n"
     ]
    },
    {
     "name": "stdout",
     "output_type": "stream",
     "text": [
      "Found 12898 images belonging to 17 classes.\n",
      "Found 1629 images belonging to 17 classes.\n",
      "Found 1605 images belonging to 17 classes.\n"
     ]
    },
    {
     "name": "stderr",
     "output_type": "stream",
     "text": [
      "WARNING:absl:At this time, the v2.11+ optimizer `tf.keras.optimizers.Adam` runs slowly on M1/M2 Macs, please use the legacy Keras optimizer instead, located at `tf.keras.optimizers.legacy.Adam`.\n",
      "WARNING:absl:There is a known slowdown when using v2.11+ Keras optimizers on M1/M2 Macs. Falling back to the legacy Keras optimizer, i.e., `tf.keras.optimizers.legacy.Adam`.\n"
     ]
    },
    {
     "name": "stdout",
     "output_type": "stream",
     "text": [
      "Epoch 1/2\n"
     ]
    },
    {
     "name": "stderr",
     "output_type": "stream",
     "text": [
      "2023-06-21 11:38:59.072034: I tensorflow/core/common_runtime/executor.cc:1210] [/device:CPU:0] (DEBUG INFO) Executor start aborting (this does not indicate an error and you can ignore this message): INVALID_ARGUMENT: You must feed a value for placeholder tensor 'Placeholder/_0' with dtype int32\n",
      "\t [[{{node Placeholder/_0}}]]\n"
     ]
    },
    {
     "name": "stdout",
     "output_type": "stream",
     "text": [
      "516/516 [==============================] - ETA: 0s - loss: 1.2807 - accuracy: 0.7036"
     ]
    },
    {
     "name": "stderr",
     "output_type": "stream",
     "text": [
      "2023-06-21 12:14:37.781928: I tensorflow/core/common_runtime/executor.cc:1210] [/device:CPU:0] (DEBUG INFO) Executor start aborting (this does not indicate an error and you can ignore this message): INVALID_ARGUMENT: You must feed a value for placeholder tensor 'Placeholder/_0' with dtype int32\n",
      "\t [[{{node Placeholder/_0}}]]\n"
     ]
    },
    {
     "name": "stdout",
     "output_type": "stream",
     "text": [
      "516/516 [==============================] - 2208s 4s/step - loss: 1.2807 - accuracy: 0.7036 - val_loss: 0.4355 - val_accuracy: 0.8623\n",
      "Epoch 2/2\n",
      "516/516 [==============================] - 2364s 5s/step - loss: 0.4596 - accuracy: 0.8480 - val_loss: 0.6484 - val_accuracy: 0.8131\n",
      "1/1 [==============================] - 0s 409ms/step\n",
      "입력된 mel-spectrogram은 피아노연주소리 소리와 97.79865145683289 % 비슷합니다.\n"
     ]
    },
    {
     "data": {
      "image/png": "[encoded data removed]",
      "text/plain": [
       "<Figure size 224x224 with 1 Axes>"
      ]
     },
     "metadata": {},
     "output_type": "display_data"
    },
    {
     "ename": "AttributeError",
     "evalue": "module 'matplotlib' has no attribute 'pyplot'",
     "output_type": "error",
     "traceback": [
      "\u001b[0;31m---------------------------------------------------------------------------\u001b[0m",
      "\u001b[0;31mAttributeError\u001b[0m                            Traceback (most recent call last)",
      "File \u001b[0;32m~/.pyenv/versions/3.9.7/lib/python3.9/site-packages/matplotlib_inline/backend_inline.py:99\u001b[0m, in \u001b[0;36mshow\u001b[0;34m(close, block)\u001b[0m\n\u001b[1;32m     96\u001b[0m \u001b[38;5;66;03m# only call close('all') if any to close\u001b[39;00m\n\u001b[1;32m     97\u001b[0m \u001b[38;5;66;03m# close triggers gc.collect, which can be slow\u001b[39;00m\n\u001b[1;32m     98\u001b[0m \u001b[38;5;28;01mif\u001b[39;00m close \u001b[38;5;129;01mand\u001b[39;00m Gcf\u001b[38;5;241m.\u001b[39mget_all_fig_managers():\n\u001b[0;32m---> 99\u001b[0m     \u001b[43mmatplotlib\u001b[49m\u001b[38;5;241;43m.\u001b[39;49m\u001b[43mpyplot\u001b[49m\u001b[38;5;241m.\u001b[39mclose(\u001b[38;5;124m'\u001b[39m\u001b[38;5;124mall\u001b[39m\u001b[38;5;124m'\u001b[39m)\n",
      "File \u001b[0;32m~/.pyenv/versions/3.9.7/lib/python3.9/site-packages/matplotlib/_api/__init__.py:226\u001b[0m, in \u001b[0;36mcaching_module_getattr.<locals>.__getattr__\u001b[0;34m(name)\u001b[0m\n\u001b[1;32m    224\u001b[0m \u001b[38;5;28;01mif\u001b[39;00m name \u001b[38;5;129;01min\u001b[39;00m props:\n\u001b[1;32m    225\u001b[0m     \u001b[38;5;28;01mreturn\u001b[39;00m props[name]\u001b[38;5;241m.\u001b[39m\u001b[38;5;21m__get__\u001b[39m(instance)\n\u001b[0;32m--> 226\u001b[0m \u001b[38;5;28;01mraise\u001b[39;00m \u001b[38;5;167;01mAttributeError\u001b[39;00m(\n\u001b[1;32m    227\u001b[0m     \u001b[38;5;124mf\u001b[39m\u001b[38;5;124m\"\u001b[39m\u001b[38;5;124mmodule \u001b[39m\u001b[38;5;132;01m{\u001b[39;00m\u001b[38;5;28mcls\u001b[39m\u001b[38;5;241m.\u001b[39m\u001b[38;5;18m__module__\u001b[39m\u001b[38;5;132;01m!r}\u001b[39;00m\u001b[38;5;124m has no attribute \u001b[39m\u001b[38;5;132;01m{\u001b[39;00mname\u001b[38;5;132;01m!r}\u001b[39;00m\u001b[38;5;124m\"\u001b[39m)\n",
      "\u001b[0;31mAttributeError\u001b[0m: module 'matplotlib' has no attribute 'pyplot'"
     ]
    }
   ],
   "source": [
    "import librosa\n",
    "import librosa.display\n",
    "from PIL import Image\n",
    "import splitfolders\n",
    "import pandas as pd\n",
    "import os\n",
    "import seaborn as sns\n",
    "from sklearn.model_selection import train_test_split\n",
    "from sklearn.metrics import confusion_matrix\n",
    "from keras.applications.resnet import ResNet50\n",
    "from keras.preprocessing.image import ImageDataGenerator\n",
    "from keras.callbacks import ReduceLROnPlateau\n",
    "from keras.layers import Flatten, Dense, Dropout, Input  # Input 모듈 추가\n",
    "from tensorflow.keras.utils import to_categorical\n",
    "import tensorflow as tf\n",
    "import warnings\n",
    "warnings.filterwarnings('ignore')\n",
    "from tensorflow.keras.models import Model\n",
    "from tensorflow.keras.layers import Flatten, Dense\n",
    "from tensorflow.keras.models import load_model\n",
    "from keras.preprocessing import image\n",
    "import matplotlib.pyplot as plt\n",
    "import numpy as np\n",
    "\n",
    "# 음성 파일 경로\n",
    "wav_file_path = '/Users/gim-yeongmin/Downloads/아이들발소리.wav'\n",
    "\n",
    "# 음성 파일 로드\n",
    "waveform, sample_rate = librosa.load(wav_file_path, sr=None)\n",
    "\n",
    "# Mel-spectrogram 계산\n",
    "mel_spectrogram = librosa.feature.melspectrogram(y=waveform, sr=sample_rate)\n",
    "\n",
    "# 로그 스케일로 변환\n",
    "log_mel_spectrogram = librosa.amplitude_to_db(mel_spectrogram, ref=np.max)\n",
    "\n",
    "# Mel-spectrogram 시각화\n",
    "plt.figure(figsize=(12, 6))\n",
    "librosa.display.specshow(log_mel_spectrogram, sr=sample_rate, x_axis='time', y_axis='mel')\n",
    "plt.axis('off')  # 축 제거\n",
    "plt.tight_layout()\n",
    "\n",
    "# 이미지 크기 조정\n",
    "plt.gcf().set_size_inches(2.24, 2.24)  # 인치 단위로 크기 조정 (224x224 -> 2.24x2.24)\n",
    "\n",
    "# 이미지 저장\n",
    "resized_image = plt.gcf()\n",
    "resized_image.savefig('mel_spectrogram_resized1.png', dpi=100)  # dpi를 조정하여 해상도 조절\n",
    "\n",
    "# 이미지 출력\n",
    "resized_image.show()\n",
    "\n",
    "# 이미지 분할\n",
    "splitfolders.ratio('/Users/gim-yeongmin/Downloads/사업/데이터/Spectrogram',\n",
    "                   output='/Users/gim-yeongmin/Downloads/사업/데이터/Spectrogram', seed=1337, ratio=(0.8, 0.1, 0.1))\n",
    "\n",
    "# 경로 설정\n",
    "train_path = '/Users/gim-yeongmin/Downloads/사업/데이터/Spectrogram/train'\n",
    "test_path = '/Users/gim-yeongmin/Downloads/사업/데이터/Spectrogram/test'\n",
    "val_path = '/Users/gim-yeongmin/Downloads/사업/데이터/Spectrogram/val'\n",
    "\n",
    "# 데이터 로더 생성\n",
    "batch_size = 25\n",
    "test_batch_size = 32\n",
    "test_steps = 1\n",
    "\n",
    "trgen = ImageDataGenerator(horizontal_flip=True)\n",
    "tvgen = ImageDataGenerator()\n",
    "\n",
    "train_generator = trgen.flow_from_directory(directory=train_path, target_size=(224, 224), class_mode='categorical',\n",
    "                                            color_mode='rgb', shuffle=True, batch_size=batch_size)\n",
    "test_generator = tvgen.flow_from_directory(directory=test_path, target_size=(224, 224), class_mode='categorical',\n",
    "                                           color_mode='rgb', shuffle=False, batch_size=test_batch_size)\n",
    "valid_generator = tvgen.flow_from_directory(directory=val_path, target_size=(224, 224), class_mode='categorical',\n",
    "                                            color_mode='rgb', shuffle=True, batch_size=batch_size)\n",
    "\n",
    "# 입력 이미지의 크기\n",
    "input_shape = (224, 224, 3)\n",
    "\n",
    "# 입력 레이어 정의\n",
    "image_input = Input(shape=input_shape)\n",
    "\n",
    "# 이미지 전처리 함수 적용\n",
    "preprocessed_input = tf.keras.applications.resnet.preprocess_input(image_input)\n",
    "\n",
    "# ResNet50 모델 불러오기 (include_top=False로 설정하여 fully connected layer를 제외)\n",
    "resnet_model = ResNet50(input_tensor=preprocessed_input, weights='imagenet', include_top=False)\n",
    "\n",
    "# Flatten 레이어 추가\n",
    "flatten = Flatten()(resnet_model.output)\n",
    "\n",
    "# Fully Connected 레이어 추가\n",
    "dense = Dense(256, activation='relu')(flatten)\n",
    "output = Dense(17, activation='softmax')(dense)\n",
    "\n",
    "# 새로운 모델 구성\n",
    "model = Model(inputs=resnet_model.input, outputs=output)\n",
    "\n",
    "# 새로운 모델 컴파일\n",
    "learn_rate = 0.001\n",
    "optimizer = tf.keras.optimizers.Adam(learning_rate=learn_rate)\n",
    "model.compile(optimizer=optimizer, loss='categorical_crossentropy', metrics=['accuracy'])\n",
    "\n",
    "# 학습\n",
    "epochs = 2\n",
    "history = model.fit(train_generator, epochs=epochs, validation_data=valid_generator, verbose=1)\n",
    "model.save(\"my_model1.h5\")\n",
    "\n",
    "# 모델 불러오기\n",
    "model_path = '/Users/gim-yeongmin/Downloads/my_model1.h5'\n",
    "model = load_model(model_path)\n",
    "\n",
    "# 이미지 경로\n",
    "new_image_path = '/Users/gim-yeongmin/Downloads/mel_spectrogram_resized.png'\n",
    "\n",
    "# 이미지 불러오기\n",
    "new_image = image.load_img(new_image_path, target_size=(224, 224))\n",
    "new_image = image.img_to_array(new_image)\n",
    "new_image = np.expand_dims(new_image, axis=0)\n",
    "new_image = tf.keras.applications.resnet.preprocess_input(new_image)\n",
    "\n",
    "# 예측 수행\n",
    "predictions = model.predict(new_image)\n",
    "predicted_class_index = np.argmax(predictions)\n",
    "predicted_class = list(train_generator.class_indices.keys())[predicted_class_index]\n",
    "prediction_percentage = predictions[0][predicted_class_index] * 100\n",
    "\n",
    "# 폴더 삭제 함수 정의\n",
    "def delete_folder(path):\n",
    "    if os.path.exists(path):\n",
    "        shutil.rmtree(path)\n",
    "        print(f\"폴더 {path}가 삭제되었습니다.\")\n",
    "    else:\n",
    "        print(f\"폴더 {path}가 존재하지 않습니다.\")\n",
    "\n",
    "# 폴더 삭제 실행\n",
    "delete_folder(train_path)\n",
    "delete_folder(test_path)\n",
    "delete_folder(val_path)\n",
    "\n",
    "# 결과 출력\n",
    "print(\"입력된 mel-spectrogram은\", predicted_class, \"소리와\", prediction_percentage, \"% 비슷합니다.\")\n"
   ]
  },
  {
   "cell_type": "code",
   "execution_count": null,
   "id": "ac9b19dd",
   "metadata": {},
   "outputs": [],
   "source": []
  }
 ],
 "metadata": {
  "kernelspec": {
   "display_name": "Python 3 (ipykernel)",
   "language": "python",
   "name": "python3"
  },
  "language_info": {
   "codemirror_mode": {
    "name": "ipython",
    "version": 3
   },
   "file_extension": ".py",
   "mimetype": "text/x-python",
   "name": "python",
   "nbconvert_exporter": "python",
   "pygments_lexer": "ipython3",
   "version": "3.9.7"
  }
 },
 "nbformat": 4,
 "nbformat_minor": 5
}
